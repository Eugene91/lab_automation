{
 "cells": [
  {
   "cell_type": "code",
   "execution_count": null,
   "id": "32d7375d-ed18-44b7-9e89-0bdfc657c3be",
   "metadata": {},
   "outputs": [],
   "source": [
    "import OSA\n",
    "optscan=OSA.AQ6317B(\"192.168.1.103\",1234)\n",
    "optscan.full_spectrum(export_file_name='data_imported_from_OSA')"
   ]
  }
 ],
 "metadata": {
  "kernelspec": {
   "display_name": "Python 3 (ipykernel)",
   "language": "python",
   "name": "python3"
  },
  "language_info": {
   "codemirror_mode": {
    "name": "ipython",
    "version": 3
   },
   "file_extension": ".py",
   "mimetype": "text/x-python",
   "name": "python",
   "nbconvert_exporter": "python",
   "pygments_lexer": "ipython3",
   "version": "3.8.17"
  }
 },
 "nbformat": 4,
 "nbformat_minor": 5
}
